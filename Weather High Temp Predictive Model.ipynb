{
 "cells": [
  {
   "cell_type": "code",
   "execution_count": 1,
   "id": "caf8957e",
   "metadata": {},
   "outputs": [],
   "source": [
    "import pandas as pd\n",
    "import numpy as np\n",
    "from sklearn.linear_model import LinearRegression\n",
    "import statsmodels.api as sm\n",
    "from scipy import stats"
   ]
  },
  {
   "cell_type": "code",
   "execution_count": 2,
   "id": "9fe32410",
   "metadata": {},
   "outputs": [],
   "source": [
    "df = pd.read_excel(\"MadisonWeather2017to2020.xlsx\")"
   ]
  },
  {
   "cell_type": "code",
   "execution_count": 18,
   "id": "37194c59",
   "metadata": {},
   "outputs": [
    {
     "name": "stdout",
     "output_type": "stream",
     "text": [
      "                            OLS Regression Results                            \n",
      "==============================================================================\n",
      "Dep. Variable:                      y   R-squared:                       0.977\n",
      "Model:                            OLS   Adj. R-squared:                  0.977\n",
      "Method:                 Least Squares   F-statistic:                     4468.\n",
      "Date:                Fri, 29 Apr 2022   Prob (F-statistic):               0.00\n",
      "Time:                        12:36:49   Log-Likelihood:                -3789.7\n",
      "No. Observations:                1460   AIC:                             7609.\n",
      "Df Residuals:                    1445   BIC:                             7689.\n",
      "Df Model:                          14                                         \n",
      "Covariance Type:            nonrobust                                         \n",
      "===================================================================================\n",
      "                      coef    std err          t      P>|t|      [0.025      0.975]\n",
      "-----------------------------------------------------------------------------------\n",
      "const              54.8976      0.715     76.831      0.000      53.496      56.299\n",
      "Month_February      0.1471      0.427      0.344      0.731      -0.691       0.986\n",
      "Month_March         0.3566      0.441      0.809      0.419      -0.508       1.221\n",
      "Month_April         1.5949      0.485      3.289      0.001       0.644       2.546\n",
      "Month_May           0.0143      0.550      0.026      0.979      -1.065       1.094\n",
      "Month_June         -1.3759      0.628     -2.191      0.029      -2.608      -0.144\n",
      "Month_July         -2.4060      0.663     -3.632      0.000      -3.706      -1.106\n",
      "Month_August       -1.6584      0.628     -2.641      0.008      -2.890      -0.427\n",
      "Month_September    -0.3106      0.584     -0.532      0.595      -1.456       0.835\n",
      "Month_October      -0.6288      0.492     -1.277      0.202      -1.594       0.337\n",
      "Month_November     -1.4172      0.441     -3.216      0.001      -2.282      -0.553\n",
      "Month_December     -0.4036      0.418     -0.966      0.334      -1.223       0.416\n",
      "DewAvg              1.1363      0.010    110.791      0.000       1.116       1.156\n",
      "HumidAvg           -0.5460      0.009    -60.736      0.000      -0.564      -0.528\n",
      "WindAvg            -0.2981      0.029    -10.427      0.000      -0.354      -0.242\n",
      "==============================================================================\n",
      "Omnibus:                       66.680   Durbin-Watson:                   1.614\n",
      "Prob(Omnibus):                  0.000   Jarque-Bera (JB):               79.166\n",
      "Skew:                           0.489   Prob(JB):                     6.45e-18\n",
      "Kurtosis:                       3.586   Cond. No.                     1.49e+03\n",
      "==============================================================================\n",
      "\n",
      "Notes:\n",
      "[1] Standard Errors assume that the covariance matrix of the errors is correctly specified.\n",
      "[2] The condition number is large, 1.49e+03. This might indicate that there are\n",
      "strong multicollinearity or other numerical problems.\n"
     ]
    }
   ],
   "source": [
    "x = df[['Month_February','Month_March','Month_April','Month_May','Month_June'\n",
    "       ,'Month_July','Month_August','Month_September','Month_October','Month_November','Month_December'\n",
    "       ,'DewAvg'\n",
    "       ,'HumidAvg'\n",
    "       ,'WindAvg']]\n",
    "y = np.array(df['TempMax'])\n",
    "#reg = LinearRegression().fit(x, y)\n",
    "\n",
    "x2 = sm.add_constant(x)\n",
    "est = sm.OLS(y, x2)\n",
    "est2 = est.fit()\n",
    "print(est2.summary())"
   ]
  },
  {
   "cell_type": "code",
   "execution_count": 16,
   "id": "50622568",
   "metadata": {},
   "outputs": [
    {
     "name": "stdout",
     "output_type": "stream",
     "text": [
      "                            OLS Regression Results                            \n",
      "==============================================================================\n",
      "Dep. Variable:                      y   R-squared:                       0.000\n",
      "Model:                            OLS   Adj. R-squared:                 -0.001\n",
      "Method:                 Least Squares   F-statistic:                    0.1597\n",
      "Date:                Fri, 29 Apr 2022   Prob (F-statistic):              0.689\n",
      "Time:                        12:12:46   Log-Likelihood:                -6556.8\n",
      "No. Observations:                1460   AIC:                         1.312e+04\n",
      "Df Residuals:                    1458   BIC:                         1.313e+04\n",
      "Df Model:                           1                                         \n",
      "Covariance Type:            nonrobust                                         \n",
      "==============================================================================\n",
      "                 coef    std err          t      P>|t|      [0.025      0.975]\n",
      "------------------------------------------------------------------------------\n",
      "const         57.4439      3.476     16.527      0.000      50.626      64.262\n",
      "HumidAvg      -0.0187      0.047     -0.400      0.689      -0.111       0.073\n",
      "==============================================================================\n",
      "Omnibus:                      290.757   Durbin-Watson:                   0.128\n",
      "Prob(Omnibus):                  0.000   Jarque-Bera (JB):               71.356\n",
      "Skew:                          -0.238   Prob(JB):                     3.20e-16\n",
      "Kurtosis:                       2.027   Cond. No.                         456.\n",
      "==============================================================================\n",
      "\n",
      "Notes:\n",
      "[1] Standard Errors assume that the covariance matrix of the errors is correctly specified.\n"
     ]
    }
   ],
   "source": [
    "x = df[['HumidAvg']]\n",
    "y = np.array(df['TempMax'])\n",
    "#reg = LinearRegression().fit(x, y)\n",
    "\n",
    "x2 = sm.add_constant(x)\n",
    "est = sm.OLS(y, x2)\n",
    "est2 = est.fit()\n",
    "print(est2.summary())"
   ]
  }
 ],
 "metadata": {
  "kernelspec": {
   "display_name": "Python 3",
   "language": "python",
   "name": "python3"
  },
  "language_info": {
   "codemirror_mode": {
    "name": "ipython",
    "version": 3
   },
   "file_extension": ".py",
   "mimetype": "text/x-python",
   "name": "python",
   "nbconvert_exporter": "python",
   "pygments_lexer": "ipython3",
   "version": "3.8.8"
  }
 },
 "nbformat": 4,
 "nbformat_minor": 5
}
